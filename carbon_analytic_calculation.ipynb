{
 "cells": [
  {
   "cell_type": "markdown",
   "metadata": {},
   "source": [
    "# YvesBlue Backend Challenge\n",
    "## Carbon Analytic Calculation\n",
    "### Goal: Utilizing this Jupyter Notebook (and additional libraries/files/tools as needed) implement a function that can be utilized to calculate the (strawman) Adjusted CO2 Total emissions for a company. \n",
    "### Notes: The calculation is laid out in this [image](calculation.png?raw=true). The data is stored inside of the [included data file](data.json?raw=true). Your code structure can take whatever you believe to be best (individual function, class, module, etc.). Please implement the code as well as write tests for the calculation, showcasing how you would write tests for such requirements. Provide instructions with your submission for how to call your implemented function as well as how to run the tests.\n",
    "## Author: @github_username (Full Name)\n",
    "## Date: YYYY-MM-DD"
   ]
  },
  {
   "cell_type": "code",
   "execution_count": 2,
   "metadata": {},
   "outputs": [],
   "source": [
    "## Import Libraries\n",
    "\n",
    "import decimal\n",
    "import json\n",
    "import os\n",
    "import pandas as pd\n",
    "import numpy as np\n"
   ]
  },
  {
   "cell_type": "code",
   "execution_count": 3,
   "metadata": {},
   "outputs": [
    {
     "data": {
      "text/html": [
       "<div>\n",
       "<style scoped>\n",
       "    .dataframe tbody tr th:only-of-type {\n",
       "        vertical-align: middle;\n",
       "    }\n",
       "\n",
       "    .dataframe tbody tr th {\n",
       "        vertical-align: top;\n",
       "    }\n",
       "\n",
       "    .dataframe thead th {\n",
       "        text-align: right;\n",
       "    }\n",
       "</style>\n",
       "<table border=\"1\" class=\"dataframe\">\n",
       "  <thead>\n",
       "    <tr style=\"text-align: right;\">\n",
       "      <th></th>\n",
       "      <th>ISIN</th>\n",
       "      <th>Total Energy Use</th>\n",
       "      <th>Total CO2 Equivalents Emissions</th>\n",
       "      <th>Renewable Energy Purchased</th>\n",
       "      <th>Renewable Energy Produced</th>\n",
       "      <th>Carbon Credit Value</th>\n",
       "      <th>CO2 Analytic</th>\n",
       "    </tr>\n",
       "  </thead>\n",
       "  <tbody>\n",
       "    <tr>\n",
       "      <th>0</th>\n",
       "      <td>US0000000000</td>\n",
       "      <td>7000000</td>\n",
       "      <td>94972.491980</td>\n",
       "      <td>10576.00479</td>\n",
       "      <td>96652.16115</td>\n",
       "      <td>8171.323352</td>\n",
       "      <td>NaN</td>\n",
       "    </tr>\n",
       "    <tr>\n",
       "      <th>1</th>\n",
       "      <td>US0000000001</td>\n",
       "      <td>80000000</td>\n",
       "      <td>306900.619200</td>\n",
       "      <td>31961.79405</td>\n",
       "      <td>38372.19210</td>\n",
       "      <td>57387.100000</td>\n",
       "      <td>NaN</td>\n",
       "    </tr>\n",
       "    <tr>\n",
       "      <th>2</th>\n",
       "      <td>US0000000002</td>\n",
       "      <td>153000000</td>\n",
       "      <td>171320.165100</td>\n",
       "      <td>62884.91047</td>\n",
       "      <td>10689.83474</td>\n",
       "      <td>84303.725900</td>\n",
       "      <td>NaN</td>\n",
       "    </tr>\n",
       "    <tr>\n",
       "      <th>3</th>\n",
       "      <td>US0000000003</td>\n",
       "      <td>226000000</td>\n",
       "      <td>2250.272892</td>\n",
       "      <td>12949.74785</td>\n",
       "      <td>27468.66907</td>\n",
       "      <td>45713.963860</td>\n",
       "      <td>NaN</td>\n",
       "    </tr>\n",
       "    <tr>\n",
       "      <th>4</th>\n",
       "      <td>US0000000004</td>\n",
       "      <td>299000000</td>\n",
       "      <td>132696.737600</td>\n",
       "      <td>42559.65263</td>\n",
       "      <td>69567.95366</td>\n",
       "      <td>17515.500000</td>\n",
       "      <td>NaN</td>\n",
       "    </tr>\n",
       "  </tbody>\n",
       "</table>\n",
       "</div>"
      ],
      "text/plain": [
       "           ISIN  Total Energy Use  Total CO2 Equivalents Emissions  \\\n",
       "0  US0000000000           7000000                     94972.491980   \n",
       "1  US0000000001          80000000                    306900.619200   \n",
       "2  US0000000002         153000000                    171320.165100   \n",
       "3  US0000000003         226000000                      2250.272892   \n",
       "4  US0000000004         299000000                    132696.737600   \n",
       "\n",
       "   Renewable Energy Purchased  Renewable Energy Produced  Carbon Credit Value  \\\n",
       "0                 10576.00479                96652.16115          8171.323352   \n",
       "1                 31961.79405                38372.19210         57387.100000   \n",
       "2                 62884.91047                10689.83474         84303.725900   \n",
       "3                 12949.74785                27468.66907         45713.963860   \n",
       "4                 42559.65263                69567.95366         17515.500000   \n",
       "\n",
       "   CO2 Analytic  \n",
       "0           NaN  \n",
       "1           NaN  \n",
       "2           NaN  \n",
       "3           NaN  \n",
       "4           NaN  "
      ]
     },
     "execution_count": 3,
     "metadata": {},
     "output_type": "execute_result"
    }
   ],
   "source": [
    "df = pd.read_json('data.json')\n",
    "\n",
    "df.head()"
   ]
  },
  {
   "cell_type": "code",
   "execution_count": 4,
   "metadata": {},
   "outputs": [],
   "source": [
    "df. columns = df. columns. str. replace(' ','_')            "
   ]
  },
  {
   "cell_type": "code",
   "execution_count": 5,
   "metadata": {},
   "outputs": [],
   "source": [
    "def calculateMin(df):\n",
    "    mininner = (0.5 * df['Renewable_Energy_Purchased']/df['Total_Energy_Use'])\n",
    "    #print(mininner)\n",
    "    #print(np.minimum(mininner,0.8))\n",
    "    #print(1 - np.minimum(mininner,0.8))\n",
    "    return 1 - np.minimum(mininner,0.8)"
   ]
  },
  {
   "cell_type": "code",
   "execution_count": 6,
   "metadata": {},
   "outputs": [],
   "source": [
    "## Specify Calculation Function\n",
    "def carboncalc(df):\n",
    "    co2adj = (df['Total_CO2_Equivalents_Emissions'] - df['Carbon_Credit_Value']) * calculateMin(df) - (0.05 * df['Renewable_Energy_Produced'])\n",
    "    return co2adj"
   ]
  },
  {
   "cell_type": "code",
   "execution_count": 7,
   "metadata": {},
   "outputs": [
    {
     "data": {
      "text/plain": [
       "0      81902.988458\n",
       "1     247545.066472\n",
       "2      86464.065041\n",
       "3     -44835.879192\n",
       "4     111694.642470\n",
       "5     174827.678028\n",
       "6      53170.897969\n",
       "7      80180.679660\n",
       "8      49487.047923\n",
       "9     268186.239806\n",
       "10    389716.357287\n",
       "11    171647.987963\n",
       "12    903772.104869\n",
       "13     56404.975676\n",
       "14     10100.783406\n",
       "15    -74343.513168\n",
       "16      1398.849868\n",
       "17    261778.097205\n",
       "18    608438.368404\n",
       "19    673525.138898\n",
       "dtype: float64"
      ]
     },
     "execution_count": 7,
     "metadata": {},
     "output_type": "execute_result"
    }
   ],
   "source": [
    "## Demonstrate Solution with Calculation Function\n",
    "carboncalc(df)\n"
   ]
  },
  {
   "cell_type": "code",
   "execution_count": 8,
   "metadata": {},
   "outputs": [
    {
     "data": {
      "text/html": [
       "<div>\n",
       "<style scoped>\n",
       "    .dataframe tbody tr th:only-of-type {\n",
       "        vertical-align: middle;\n",
       "    }\n",
       "\n",
       "    .dataframe tbody tr th {\n",
       "        vertical-align: top;\n",
       "    }\n",
       "\n",
       "    .dataframe thead th {\n",
       "        text-align: right;\n",
       "    }\n",
       "</style>\n",
       "<table border=\"1\" class=\"dataframe\">\n",
       "  <thead>\n",
       "    <tr style=\"text-align: right;\">\n",
       "      <th></th>\n",
       "      <th>ISIN</th>\n",
       "      <th>Total_Energy_Use</th>\n",
       "      <th>Total_CO2_Equivalents_Emissions</th>\n",
       "      <th>Renewable_Energy_Purchased</th>\n",
       "      <th>Renewable_Energy_Produced</th>\n",
       "      <th>Carbon_Credit_Value</th>\n",
       "    </tr>\n",
       "  </thead>\n",
       "  <tbody>\n",
       "    <tr>\n",
       "      <th>0</th>\n",
       "      <td>US00000000t1</td>\n",
       "      <td>10</td>\n",
       "      <td>10</td>\n",
       "      <td>2</td>\n",
       "      <td>3</td>\n",
       "      <td>5</td>\n",
       "    </tr>\n",
       "  </tbody>\n",
       "</table>\n",
       "</div>"
      ],
      "text/plain": [
       "           ISIN  Total_Energy_Use  Total_CO2_Equivalents_Emissions  \\\n",
       "0  US00000000t1                10                               10   \n",
       "\n",
       "   Renewable_Energy_Purchased  Renewable_Energy_Produced  Carbon_Credit_Value  \n",
       "0                           2                          3                    5  "
      ]
     },
     "execution_count": 8,
     "metadata": {},
     "output_type": "execute_result"
    }
   ],
   "source": [
    "## Test Calculation Function\n",
    "## Give it a json with mocked up values and compare results.test.json has some mocked up values.\n",
    "dftest= pd.read_json(\"test.json\")\n",
    "dftest. columns = dftest. columns. str. replace(' ','_')\n",
    "dftest.head()"
   ]
  },
  {
   "cell_type": "code",
   "execution_count": 11,
   "metadata": {},
   "outputs": [
    {
     "data": {
      "text/plain": [
       "0    True\n",
       "dtype: bool"
      ]
     },
     "execution_count": 11,
     "metadata": {},
     "output_type": "execute_result"
    }
   ],
   "source": [
    "carboncalc(dftest)== 4.35"
   ]
  },
  {
   "cell_type": "code",
   "execution_count": null,
   "metadata": {},
   "outputs": [],
   "source": []
  }
 ],
 "metadata": {
  "kernelspec": {
   "display_name": "Python 3",
   "language": "python",
   "name": "python3"
  },
  "language_info": {
   "codemirror_mode": {
    "name": "ipython",
    "version": 3
   },
   "file_extension": ".py",
   "mimetype": "text/x-python",
   "name": "python",
   "nbconvert_exporter": "python",
   "pygments_lexer": "ipython3",
   "version": "3.8.8"
  }
 },
 "nbformat": 4,
 "nbformat_minor": 4
}
